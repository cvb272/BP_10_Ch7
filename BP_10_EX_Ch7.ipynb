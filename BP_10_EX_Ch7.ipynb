{
  "nbformat": 4,
  "nbformat_minor": 0,
  "metadata": {
    "colab": {
      "provenance": [],
      "authorship_tag": "ABX9TyOWdHkipskD++zFwYKGXawB",
      "include_colab_link": true
    },
    "kernelspec": {
      "name": "python3",
      "display_name": "Python 3"
    },
    "language_info": {
      "name": "python"
    }
  },
  "cells": [
    {
      "cell_type": "markdown",
      "metadata": {
        "id": "view-in-github",
        "colab_type": "text"
      },
      "source": [
        "<a href=\"https://colab.research.google.com/github/cvb272/BP_10_Ch7/blob/main/BP_10_EX_Ch7.ipynb\" target=\"_parent\"><img src=\"https://colab.research.google.com/assets/colab-badge.svg\" alt=\"Open In Colab\"/></a>"
      ]
    },
    {
      "cell_type": "code",
      "source": [
        "def happyBirthday(person):\n",
        "    print(\"Happy Birthday to you!\")\n",
        "    print(\"Happy Birthday to you!\")\n",
        "    print(\"Happy Birthday, dear \" + person)\n",
        "    print(\"Happy Birthday to you!\")\n",
        "\n",
        "happyBirthday(\"홍길동\")"
      ],
      "metadata": {
        "colab": {
          "base_uri": "https://localhost:8080/"
        },
        "id": "hz4csXHw_4G-",
        "outputId": "16e4a476-0a04-4759-813e-44ce8e4c8c31"
      },
      "execution_count": null,
      "outputs": [
        {
          "output_type": "stream",
          "name": "stdout",
          "text": [
            "Happy Birthday to you!\n",
            "Happy Birthday to you!\n",
            "Happy Birthday, dear 홍길동\n",
            "Happy Birthday to you!\n"
          ]
        }
      ]
    },
    {
      "cell_type": "code",
      "source": [
        "def sumProblem(x, y):\n",
        "   sum = x + y\n",
        "   sentence = \"정수\" + str(x) + \"+\"+str(y)+\"의 합은?\"\n",
        "   print(sentence)\n",
        "\n",
        "def main():\n",
        "   a = int(input(\"첫 번째 정수: \"))\n",
        "   b = int(input(\"두 번째 정수: \"))\n",
        "   sumProblem(a, b)\n",
        "\n",
        "main()"
      ],
      "metadata": {
        "colab": {
          "base_uri": "https://localhost:8080/"
        },
        "id": "S9cqtxBtAw5O",
        "outputId": "a8df221a-a415-423a-cd35-c1df99fd7b0a"
      },
      "execution_count": null,
      "outputs": [
        {
          "output_type": "stream",
          "name": "stdout",
          "text": [
            "첫 번째 정수: 10\n",
            "두 번째 정수: 20\n",
            "정수10+20의 합은?\n"
          ]
        }
      ]
    },
    {
      "cell_type": "code",
      "source": [
        "PI = 3.14159265358979\n",
        "\n",
        "def circleArea(radius):\n",
        "    return PI*radius*radius\n",
        "\n",
        "def circleCircumference(radius):\n",
        "    return 2*PI*radius\n",
        "\n",
        "def main():\n",
        "    print('반지름이 5인 원의 면적:', circleArea(5))\n",
        "    print('반지름이 5인 원의 둘레:', circleCircumference(5))\n",
        "\n",
        "main()"
      ],
      "metadata": {
        "colab": {
          "base_uri": "https://localhost:8080/"
        },
        "id": "y3_8K3wXBj8n",
        "outputId": "01622b58-9e89-4cc6-f9c9-ef1805a7e48b"
      },
      "execution_count": null,
      "outputs": [
        {
          "output_type": "stream",
          "name": "stdout",
          "text": [
            "반지름이 5인 원의 면적: 78.53981633974475\n",
            "반지름이 5인 원의 둘레: 31.4159265358979\n"
          ]
        }
      ]
    },
    {
      "cell_type": "code",
      "source": [
        "def add(a, b):\n",
        "    print( \"(%d + %d)\" % (a, b), end=\" \")\n",
        "    return a + b\n",
        "\n",
        "def subtract(a, b):\n",
        "    print (\"(%d - %d)\" % (a, b), end=\" \")\n",
        "    return a - b\n",
        "\n",
        "def multiply(a, b):\n",
        "    print (\"(%d * %d)\" % (a, b), end=\" \")\n",
        "    return a * b\n",
        "\n",
        "def divide(a, b):\n",
        "    print (\"(%d / %d)\" % (a, b), end=\" \")\n",
        "    return a / b\n",
        "\n",
        "    \n",
        "what = add(20, 10)\n",
        "print(\"= \", what)"
      ],
      "metadata": {
        "colab": {
          "base_uri": "https://localhost:8080/"
        },
        "id": "ZNQUtyIlCq6f",
        "outputId": "f8521575-6f25-40e7-928c-8f3f7b881f11"
      },
      "execution_count": null,
      "outputs": [
        {
          "output_type": "stream",
          "name": "stdout",
          "text": [
            "(20 + 10) =  30\n"
          ]
        }
      ]
    }
  ]
}